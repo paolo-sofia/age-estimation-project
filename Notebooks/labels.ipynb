{
 "cells": [
  {
   "cell_type": "markdown",
   "metadata": {},
   "source": [
    "# **IMPORT LIBRERIE**"
   ]
  },
  {
   "cell_type": "code",
   "execution_count": null,
   "metadata": {},
   "outputs": [],
   "source": [
    "import tensorflow as tf \n",
    "import numpy as np\n",
    "import csv\n"
   ]
  },
  {
   "cell_type": "markdown",
   "metadata": {},
   "source": [
    "# **APRE FILE CSV CON LE LABEL**"
   ]
  },
  {
   "cell_type": "code",
   "execution_count": null,
   "metadata": {},
   "outputs": [],
   "source": [
    "csv_file = open('/home/paolo/ComputerSync/Università/ProgettoAgeEstimation/AgeEstimation/data/train.age_detected.csv')\n",
    "reader = csv.reader(csv_file, delimiter=',', quotechar='|')\n",
    "rows = list(reader)\n"
   ]
  },
  {
   "cell_type": "markdown",
   "metadata": {},
   "source": [
    "# **LEGGE IL FILE**"
   ]
  },
  {
   "cell_type": "code",
   "execution_count": null,
   "metadata": {},
   "outputs": [],
   "source": [
    "y = []\n",
    "for row in rows:\n",
    "  value = round(float(row[1]))\n",
    "  y.append(value)\n",
    "  "
   ]
  },
  {
   "cell_type": "code",
   "execution_count": null,
   "metadata": {},
   "outputs": [],
   "source": [
    "print(np.unique(y))\n",
    "print(np.bincount(y))\n"
   ]
  },
  {
   "cell_type": "markdown",
   "metadata": {},
   "source": [
    "# **CREA ARRAY CON NUMERO DI CAMPIONI PER OGNI CLASSE**"
   ]
  },
  {
   "cell_type": "code",
   "execution_count": null,
   "metadata": {
    "tags": []
   },
   "outputs": [],
   "source": [
    "bincount = np.bincount(y)\n",
    "bincount = np.clip(bincount,0,1000)\n",
    "length=82000//0.85\n",
    "rest = length-np.sum(bincount)\n",
    "\n",
    "while True:\n",
    "    if rest == 0:\n",
    "        break\n",
    "    for i in range(bincount.shape[0]-1,0,-1):\n",
    "        if rest == 0:\n",
    "            break\n",
    "        if bincount[i] >= 1000:\n",
    "            bincount[i]+=1\n",
    "            rest -= 1\n"
   ]
  },
  {
   "cell_type": "markdown",
   "metadata": {},
   "source": [
    "# **SELEZIONA LE LABELS DAL DATASET ORIGINALE**"
   ]
  },
  {
   "cell_type": "code",
   "execution_count": null,
   "metadata": {},
   "outputs": [],
   "source": [
    "from random import shuffle\n",
    "\n",
    "for i in range(5):\n",
    "    shuffle(rows)\n",
    "\n",
    "new_labels_filename = []\n",
    "new_labels = []\n",
    "for row in rows:\n",
    "    value = round(float(row[1]))\n",
    "    if bincount[value] > 0:\n",
    "        new_labels_filename.append(row[0])\n",
    "        new_labels.append(value) \n",
    "        bincount[value] -= 1\n"
   ]
  },
  {
   "cell_type": "markdown",
   "metadata": {},
   "source": [
    "# **GRAFICO BILANCIAMENTO CLASSI DOPO PREPROCESSING**"
   ]
  },
  {
   "cell_type": "code",
   "execution_count": null,
   "metadata": {},
   "outputs": [],
   "source": [
    "import matplotlib.pyplot as plt\n",
    "import seaborn as sns\n",
    "fig, ax = plt.subplots(figsize =(20, 15)) \n",
    "ax.hist(new_labels, bins = np.arange(84)) \n",
    "plt.show()\n",
    "print(\"Media età\\t\\t\", y.mean())\n",
    "print(\"Deviazione standard età\\t\", np.std(y))\n",
    "print(\"Età minima\\t\\t\", y.min())\n",
    "print(\"Età massima\\t\\t\", y.max())\n"
   ]
  },
  {
   "cell_type": "markdown",
   "metadata": {},
   "source": [
    "# **SPLIT TRAINING E VALIDATION SET**"
   ]
  },
  {
   "cell_type": "code",
   "execution_count": null,
   "metadata": {
    "tags": []
   },
   "outputs": [],
   "source": [
    "from sklearn.model_selection import train_test_split\n",
    "\n",
    "x_train,x_valid,y_train,y_valid = train_test_split(new_labels_filename,new_labels,test_size=0.15,shuffle=True)"
   ]
  },
  {
   "cell_type": "markdown",
   "metadata": {},
   "source": [
    "# **SALVA TRAIN E VALIDATION LABELS IN DUE FILE SEPARATI**"
   ]
  },
  {
   "cell_type": "code",
   "execution_count": null,
   "metadata": {},
   "outputs": [],
   "source": [
    "train_labels = []\n",
    "for i in range(len(x_train)):\n",
    "    train_labels.append([x_train[i],y_train[i]])\n",
    "\n",
    "with open('/home/paolo/ComputerSync/Università/ProgettoAgeEstimation/AgeEstimation/data/train_labels.csv', 'w') as f: \n",
    "    write = csv.writer(f) \n",
    "    write.writerows(train_labels)\n",
    "\n",
    "valid_labels = []\n",
    "for i in range(len(x_valid)):\n",
    "    valid_labels.append([x_valid[i],y_valid[i]])\n",
    "\n",
    "with open('/home/paolo/ComputerSync/Università/ProgettoAgeEstimation/AgeEstimation/data/valid_labels.csv', 'w') as f: \n",
    "    write = csv.writer(f) \n",
    "    write.writerows(valid_labels)"
   ]
  },
  {
   "cell_type": "markdown",
   "metadata": {},
   "source": [
    "# **CALCOLA I PESI PER OGNI CLASSE E SALVA SU FILE**"
   ]
  },
  {
   "cell_type": "code",
   "execution_count": null,
   "metadata": {},
   "outputs": [],
   "source": [
    "from sklearn.utils import class_weight\n",
    "class_weights = class_weight.compute_class_weight('balanced',np.unique(y_train),y_train)\n",
    "class_weights = dict(enumerate(class_weights))\n",
    "\n",
    "w = []\n",
    "for key in class_weights:\n",
    "    w.append([key,class_weights[key]])\n",
    "    print(key,class_weights[key])\n",
    "with open('/home/paolo/ComputerSync/Università/ProgettoAgeEstimation/AgeEstimation/data/weights.csv', 'w') as f:\n",
    "    write = csv.writer(f)\n",
    "    write.writerows(w) "
   ]
  }
 ],
 "metadata": {
  "kernelspec": {
   "display_name": "Python 3",
   "language": "python",
   "name": "python3"
  },
  "language_info": {
   "codemirror_mode": {
    "name": "ipython",
    "version": 3
   },
   "file_extension": ".py",
   "mimetype": "text/x-python",
   "name": "python",
   "nbconvert_exporter": "python",
   "pygments_lexer": "ipython3",
   "version": "3.6.13"
  }
 },
 "nbformat": 4,
 "nbformat_minor": 2
}
